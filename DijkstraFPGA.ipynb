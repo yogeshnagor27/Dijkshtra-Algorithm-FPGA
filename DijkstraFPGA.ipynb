{
 "cells": [
  {
   "cell_type": "code",
   "execution_count": 1,
   "metadata": {},
   "outputs": [],
   "source": [
    "#Dijkshtra Algorithm using FPGA"
   ]
  },
  {
   "cell_type": "code",
   "execution_count": 2,
   "metadata": {},
   "outputs": [
    {
     "data": {
      "application/javascript": [
       "\n",
       "try {\n",
       "require(['notebook/js/codecell'], function(codecell) {\n",
       "  codecell.CodeCell.options_default.highlight_modes[\n",
       "      'magic_text/x-csrc'] = {'reg':[/^%%microblaze/]};\n",
       "  Jupyter.notebook.events.one('kernel_ready.Kernel', function(){\n",
       "      Jupyter.notebook.get_cells().map(function(cell){\n",
       "          if (cell.cell_type == 'code'){ cell.auto_highlight(); } }) ;\n",
       "  });\n",
       "});\n",
       "} catch (e) {};\n"
      ]
     },
     "metadata": {},
     "output_type": "display_data"
    },
    {
     "data": {
      "application/javascript": [
       "\n",
       "try {\n",
       "require(['notebook/js/codecell'], function(codecell) {\n",
       "  codecell.CodeCell.options_default.highlight_modes[\n",
       "      'magic_text/x-csrc'] = {'reg':[/^%%pybind11/]};\n",
       "  Jupyter.notebook.events.one('kernel_ready.Kernel', function(){\n",
       "      Jupyter.notebook.get_cells().map(function(cell){\n",
       "          if (cell.cell_type == 'code'){ cell.auto_highlight(); } }) ;\n",
       "  });\n",
       "});\n",
       "} catch (e) {};\n"
      ]
     },
     "metadata": {},
     "output_type": "display_data"
    },
    {
     "name": "stdout",
     "output_type": "stream",
     "text": [
      "Compare Time taken by FPGA and CPU for Dijkshtra Computation:\n",
      "Input Map of Vertices and Distance : \n",
      "[[ 0  4  0  0  0  0  0  8]\n",
      " [ 4  0  8  0  0  0  0 11]\n",
      " [ 0  8  0  7  0  4  0  0]\n",
      " [ 0  0  7  0  9 14  0  0]\n",
      " [ 0  0  0  9  0 10  0  0]\n",
      " [ 0  0  4 14 10  0  2  0]\n",
      " [ 0  0  0  0  0  2  0  1]\n",
      " [ 8 11  0  0  0  0  1  0]]\n"
     ]
    }
   ],
   "source": [
    "import pynq.lib.dma\n",
    "import numpy as np\n",
    "\n",
    "## There are fixed no of Vertices in the below example\n",
    "vertices = 8\n",
    "maxInt = 999999\n",
    "## Load Overlay\n",
    "overlay = pynq.Overlay(\"./dijkshtra.bit\")\n",
    "dijkshtra_IP = overlay.dijkshtra_0\n",
    "regs = dijkshtra_IP.register_map\n",
    "\n",
    "\n",
    "print(\"Compare Time taken by FPGA and CPU for Dijkshtra Computation:\")\n",
    "\n",
    "inpt = np.array([ [ 0, 4, 0, 0, 0, 0, 0, 8 ],\n",
    "        [ 4, 0, 8, 0, 0, 0, 0, 11 ],\n",
    "\t\t[ 0, 8, 0, 7, 0, 4, 0, 0 ],\n",
    "\t\t[ 0, 0, 7, 0, 9, 14, 0, 0 ],\n",
    "        [ 0, 0, 0, 9, 0, 10, 0, 0 ],\n",
    "\t\t[ 0, 0, 4, 14, 10, 0, 2, 0 ],\n",
    "\t\t[ 0, 0, 0, 0, 0, 2, 0, 1 ],\n",
    "\t\t[ 8, 11, 0, 0, 0, 0, 1, 0 ] ])\n",
    "\n",
    "print(\"Input Map of Vertices and Distance : \")\n",
    "print(inpt)"
   ]
  },
  {
   "cell_type": "code",
   "execution_count": 3,
   "metadata": {},
   "outputs": [],
   "source": [
    "##Intermidiate Methods required for Implementation\n",
    "\n",
    "def printSolution(dist):\n",
    "    print (\"Vertex \\tDistance from Source\")\n",
    "    for node in range(vertices):\n",
    "        print (node, \"\\t\", dist[node])\n",
    "  \n",
    "    # A utility function to find the vertex with \n",
    "    # minimum distance value, from the set of vertices \n",
    "    # not yet included in shortest path tree\n",
    "def minDistance(dist, sptSet):\n",
    "    min = maxInt\n",
    "    for v in range(vertices):\n",
    "        if dist[v] < min and sptSet[v] == False:\n",
    "            min = dist[v]\n",
    "            min_index = v\n",
    "  \n",
    "    return min_index"
   ]
  },
  {
   "cell_type": "code",
   "execution_count": 4,
   "metadata": {},
   "outputs": [],
   "source": [
    "## Method implemented for FPGA Computing\n",
    "\n",
    "a = pynq.allocate(shape=(8,8), dtype=np.intc)\n",
    "res = pynq.allocate(shape=(8), dtype=np.intc)\n",
    "\n",
    "from operator import getitem, setitem\n",
    "\n",
    "for j in range (8):\n",
    "    setitem(a, j, inpt[j])\n",
    "    \n",
    "def dijkshtra_FPGA(inpt):\n",
    "        \n",
    "    regs.a_1 = a.device_address\n",
    "    regs.res_1 = res.device_address\n",
    "\n",
    "    regs.CTRL.AP_START = 1\n",
    "    while regs.CTRL.AP_DONE == 0:\n",
    "        pass\n",
    "    \n",
    "    #print(\"Output Distance from 1st Node Using FPGA: \")\n",
    "    #printSolution(res)"
   ]
  },
  {
   "cell_type": "code",
   "execution_count": 5,
   "metadata": {},
   "outputs": [],
   "source": [
    "def dijkshtra_CPU(inpt, src):\n",
    "  \n",
    "\tdist = [999999] * vertices\n",
    "\tdist[src] = 0\n",
    "\tsptSet = [False] * vertices\n",
    "\t  \n",
    "\tfor cout in range(vertices):\n",
    "\t  \n",
    "\t\t# Pick the minimum distance vertex from \n",
    "\t\t# the set of vertices not yet processed. \n",
    "\t\t# u is always equal to src in first iteration\n",
    "\t\tu = minDistance(dist, sptSet)\n",
    "\t  \n",
    "\t\t# Put the minimum distance vertex in the \n",
    "\t\t# shotest path tree\n",
    "\t\tsptSet[u] = True\n",
    "\t  \n",
    "\t\t# Update dist value of the adjacent vertices \n",
    "\t\t# of the picked vertex only if the current \n",
    "\t\t# distance is greater than new distance and\n",
    "\t\t# the vertex in not in the shotest path tree\n",
    "\t\tfor v in range(vertices):\n",
    "\t\t\tif (inpt[u][v] > 0 and sptSet[v] == False and dist[v] > dist[u] + inpt[u][v]):\n",
    "\t\t\t\tdist[v] = dist[u] + inpt[u][v]\n",
    " \n",
    "\t#print(\"Output Distance from 1st Node Using CPU: \")\n",
    "\t#printSolution(dist)"
   ]
  },
  {
   "cell_type": "code",
   "execution_count": 18,
   "metadata": {},
   "outputs": [],
   "source": [
    "## Result Computation\n",
    "from timeit import default_timer as t\n",
    "data =  [[0.0, 0.0, 0.0, 0.0], [0.0, 0.0, 0.0, 0.0]]\n",
    "for i in range(4):\n",
    "    start_time = t()\n",
    "    dijkshtra_FPGA(inpt)\n",
    "    fpga_time = t() - start_time\n",
    "\n",
    "    start_time = t()\n",
    "    dijkshtra_CPU(inpt,0)\n",
    "    cpu_time = t() - start_time\n",
    "    \n",
    "    data[0][i] = fpga_time\n",
    "    data[1][i] = cpu_time"
   ]
  },
  {
   "cell_type": "code",
   "execution_count": 19,
   "metadata": {},
   "outputs": [],
   "source": [
    "## Result Comparison\n",
    "\n",
    "# print(\"Time taken by FPGA :\")\n",
    "# print(fpga_time)\n",
    "# print(\"Time taken by CPU :\")\n",
    "# print(cpu_time)"
   ]
  },
  {
   "cell_type": "code",
   "execution_count": 20,
   "metadata": {},
   "outputs": [
    {
     "name": "stdout",
     "output_type": "stream",
     "text": [
      "FPGA Output : \n",
      "Vertex \tDistance from Source\n",
      "0 \t 0\n",
      "1 \t 4\n",
      "2 \t 12\n",
      "3 \t 19\n",
      "4 \t 21\n",
      "5 \t 11\n",
      "6 \t 9\n",
      "7 \t 8\n"
     ]
    },
    {
     "data": {
      "image/png": "[encoded data removed]",
      "text/plain": [
       "<matplotlib.figure.Figure at 0xadb0c2f0>"
      ]
     },
     "metadata": {},
     "output_type": "display_data"
    }
   ],
   "source": [
    "import matplotlib.pyplot as plt\n",
    "%matplotlib inline\n",
    "\n",
    "X = np.arange(1,5)\n",
    "fig = plt.figure()\n",
    "ax = fig.add_axes([0,0,1,1])\n",
    "ax.bar(X + 0.00, data[0], color = '#27416b', width = 0.25)\n",
    "ax.bar(X + 0.25, data[1], color = '#cfcc21', width = 0.25)\n",
    "ax.set_ylabel('Time Taken')\n",
    "ax.set_xlabel('Cases')\n",
    "ax.set_title('CPU vs FPGA')\n",
    "ax.set_xticks(X)\n",
    "ax.legend(labels=['FPGA', 'CPU'])\n",
    "\n",
    "print(\"FPGA Output : \")\n",
    "printSolution(res)"
   ]
  },
  {
   "cell_type": "code",
   "execution_count": null,
   "metadata": {},
   "outputs": [],
   "source": []
  },
  {
   "cell_type": "code",
   "execution_count": null,
   "metadata": {},
   "outputs": [],
   "source": []
  }
 ],
 "metadata": {
  "kernelspec": {
   "display_name": "Python 3",
   "language": "python",
   "name": "python3"
  },
  "language_info": {
   "codemirror_mode": {
    "name": "ipython",
    "version": 3
   },
   "file_extension": ".py",
   "mimetype": "text/x-python",
   "name": "python",
   "nbconvert_exporter": "python",
   "pygments_lexer": "ipython3",
   "version": "3.6.5"
  },
  "toc": {
   "base_numbering": 1,
   "nav_menu": {},
   "number_sections": true,
   "sideBar": true,
   "skip_h1_title": false,
   "title_cell": "Table of Contents",
   "title_sidebar": "Contents",
   "toc_cell": false,
   "toc_position": {},
   "toc_section_display": true,
   "toc_window_display": false
  }
 },
 "nbformat": 4,
 "nbformat_minor": 2
}
